{
  "nbformat": 4,
  "nbformat_minor": 0,
  "metadata": {
    "colab": {
      "name": "Mobile_dataset_Project ",
      "version": "0.3.2",
      "provenance": [],
      "collapsed_sections": []
    },
    "kernelspec": {
      "name": "python3",
      "display_name": "Python 3"
    },
    "accelerator": "TPU"
  },
  "cells": [
    {
      "cell_type": "markdown",
      "metadata": {
        "id": "C68yOMSa92Y5",
        "colab_type": "text"
      },
      "source": [
        "## Importing modules to use data from Google Drive\n"
      ]
    },
    {
      "cell_type": "code",
      "metadata": {
        "id": "WBykxQQRT_Ai",
        "colab_type": "code",
        "colab": {
          "base_uri": "https://localhost:8080/",
          "height": 52
        },
        "outputId": "9ed948e8-585c-4ef7-edd0-c8fdcd1826f8"
      },
      "source": [
        "!pip install -U -q PyDrive\n",
        "from pydrive.auth import GoogleAuth\n",
        "from pydrive.drive import GoogleDrive\n",
        "from google.colab import auth\n",
        "from oauth2client.client import GoogleCredentials"
      ],
      "execution_count": 1,
      "outputs": [
        {
          "output_type": "stream",
          "text": [
            "\u001b[?25l\r\u001b[K     |▎                               | 10kB 18.7MB/s eta 0:00:01\r\u001b[K     |▋                               | 20kB 2.3MB/s eta 0:00:01\r\u001b[K     |█                               | 30kB 3.3MB/s eta 0:00:01\r\u001b[K     |█▎                              | 40kB 2.1MB/s eta 0:00:01\r\u001b[K     |█▋                              | 51kB 2.6MB/s eta 0:00:01\r\u001b[K     |██                              | 61kB 3.1MB/s eta 0:00:01\r\u001b[K     |██▎                             | 71kB 3.5MB/s eta 0:00:01\r\u001b[K     |██▋                             | 81kB 4.0MB/s eta 0:00:01\r\u001b[K     |███                             | 92kB 4.4MB/s eta 0:00:01\r\u001b[K     |███▎                            | 102kB 3.5MB/s eta 0:00:01\r\u001b[K     |███▋                            | 112kB 3.5MB/s eta 0:00:01\r\u001b[K     |████                            | 122kB 3.5MB/s eta 0:00:01\r\u001b[K     |████▎                           | 133kB 3.5MB/s eta 0:00:01\r\u001b[K     |████▋                           | 143kB 3.5MB/s eta 0:00:01\r\u001b[K     |█████                           | 153kB 3.5MB/s eta 0:00:01\r\u001b[K     |█████▎                          | 163kB 3.5MB/s eta 0:00:01\r\u001b[K     |█████▋                          | 174kB 3.5MB/s eta 0:00:01\r\u001b[K     |██████                          | 184kB 3.5MB/s eta 0:00:01\r\u001b[K     |██████▎                         | 194kB 3.5MB/s eta 0:00:01\r\u001b[K     |██████▋                         | 204kB 3.5MB/s eta 0:00:01\r\u001b[K     |███████                         | 215kB 3.5MB/s eta 0:00:01\r\u001b[K     |███████▎                        | 225kB 3.5MB/s eta 0:00:01\r\u001b[K     |███████▋                        | 235kB 3.5MB/s eta 0:00:01\r\u001b[K     |████████                        | 245kB 3.5MB/s eta 0:00:01\r\u001b[K     |████████▎                       | 256kB 3.5MB/s eta 0:00:01\r\u001b[K     |████████▋                       | 266kB 3.5MB/s eta 0:00:01\r\u001b[K     |█████████                       | 276kB 3.5MB/s eta 0:00:01\r\u001b[K     |█████████▎                      | 286kB 3.5MB/s eta 0:00:01\r\u001b[K     |█████████▋                      | 296kB 3.5MB/s eta 0:00:01\r\u001b[K     |██████████                      | 307kB 3.5MB/s eta 0:00:01\r\u001b[K     |██████████▎                     | 317kB 3.5MB/s eta 0:00:01\r\u001b[K     |██████████▋                     | 327kB 3.5MB/s eta 0:00:01\r\u001b[K     |███████████                     | 337kB 3.5MB/s eta 0:00:01\r\u001b[K     |███████████▎                    | 348kB 3.5MB/s eta 0:00:01\r\u001b[K     |███████████▋                    | 358kB 3.5MB/s eta 0:00:01\r\u001b[K     |████████████                    | 368kB 3.5MB/s eta 0:00:01\r\u001b[K     |████████████▎                   | 378kB 3.5MB/s eta 0:00:01\r\u001b[K     |████████████▋                   | 389kB 3.5MB/s eta 0:00:01\r\u001b[K     |█████████████                   | 399kB 3.5MB/s eta 0:00:01\r\u001b[K     |█████████████▎                  | 409kB 3.5MB/s eta 0:00:01\r\u001b[K     |█████████████▋                  | 419kB 3.5MB/s eta 0:00:01\r\u001b[K     |██████████████                  | 430kB 3.5MB/s eta 0:00:01\r\u001b[K     |██████████████▎                 | 440kB 3.5MB/s eta 0:00:01\r\u001b[K     |██████████████▋                 | 450kB 3.5MB/s eta 0:00:01\r\u001b[K     |███████████████                 | 460kB 3.5MB/s eta 0:00:01\r\u001b[K     |███████████████▎                | 471kB 3.5MB/s eta 0:00:01\r\u001b[K     |███████████████▋                | 481kB 3.5MB/s eta 0:00:01\r\u001b[K     |████████████████                | 491kB 3.5MB/s eta 0:00:01\r\u001b[K     |████████████████▎               | 501kB 3.5MB/s eta 0:00:01\r\u001b[K     |████████████████▋               | 512kB 3.5MB/s eta 0:00:01\r\u001b[K     |█████████████████               | 522kB 3.5MB/s eta 0:00:01\r\u001b[K     |█████████████████▎              | 532kB 3.5MB/s eta 0:00:01\r\u001b[K     |█████████████████▋              | 542kB 3.5MB/s eta 0:00:01\r\u001b[K     |██████████████████              | 552kB 3.5MB/s eta 0:00:01\r\u001b[K     |██████████████████▎             | 563kB 3.5MB/s eta 0:00:01\r\u001b[K     |██████████████████▋             | 573kB 3.5MB/s eta 0:00:01\r\u001b[K     |███████████████████             | 583kB 3.5MB/s eta 0:00:01\r\u001b[K     |███████████████████▎            | 593kB 3.5MB/s eta 0:00:01\r\u001b[K     |███████████████████▋            | 604kB 3.5MB/s eta 0:00:01\r\u001b[K     |████████████████████            | 614kB 3.5MB/s eta 0:00:01\r\u001b[K     |████████████████████▎           | 624kB 3.5MB/s eta 0:00:01\r\u001b[K     |████████████████████▋           | 634kB 3.5MB/s eta 0:00:01\r\u001b[K     |█████████████████████           | 645kB 3.5MB/s eta 0:00:01\r\u001b[K     |█████████████████████▎          | 655kB 3.5MB/s eta 0:00:01\r\u001b[K     |█████████████████████▋          | 665kB 3.5MB/s eta 0:00:01\r\u001b[K     |██████████████████████          | 675kB 3.5MB/s eta 0:00:01\r\u001b[K     |██████████████████████▎         | 686kB 3.5MB/s eta 0:00:01\r\u001b[K     |██████████████████████▋         | 696kB 3.5MB/s eta 0:00:01\r\u001b[K     |███████████████████████         | 706kB 3.5MB/s eta 0:00:01\r\u001b[K     |███████████████████████▎        | 716kB 3.5MB/s eta 0:00:01\r\u001b[K     |███████████████████████▋        | 727kB 3.5MB/s eta 0:00:01\r\u001b[K     |████████████████████████        | 737kB 3.5MB/s eta 0:00:01\r\u001b[K     |████████████████████████▎       | 747kB 3.5MB/s eta 0:00:01\r\u001b[K     |████████████████████████▋       | 757kB 3.5MB/s eta 0:00:01\r\u001b[K     |████████████████████████▉       | 768kB 3.5MB/s eta 0:00:01\r\u001b[K     |█████████████████████████▏      | 778kB 3.5MB/s eta 0:00:01\r\u001b[K     |█████████████████████████▌      | 788kB 3.5MB/s eta 0:00:01\r\u001b[K     |█████████████████████████▉      | 798kB 3.5MB/s eta 0:00:01\r\u001b[K     |██████████████████████████▏     | 808kB 3.5MB/s eta 0:00:01\r\u001b[K     |██████████████████████████▌     | 819kB 3.5MB/s eta 0:00:01\r\u001b[K     |██████████████████████████▉     | 829kB 3.5MB/s eta 0:00:01\r\u001b[K     |███████████████████████████▏    | 839kB 3.5MB/s eta 0:00:01\r\u001b[K     |███████████████████████████▌    | 849kB 3.5MB/s eta 0:00:01\r\u001b[K     |███████████████████████████▉    | 860kB 3.5MB/s eta 0:00:01\r\u001b[K     |████████████████████████████▏   | 870kB 3.5MB/s eta 0:00:01\r\u001b[K     |████████████████████████████▌   | 880kB 3.5MB/s eta 0:00:01\r\u001b[K     |████████████████████████████▉   | 890kB 3.5MB/s eta 0:00:01\r\u001b[K     |█████████████████████████████▏  | 901kB 3.5MB/s eta 0:00:01\r\u001b[K     |█████████████████████████████▌  | 911kB 3.5MB/s eta 0:00:01\r\u001b[K     |█████████████████████████████▉  | 921kB 3.5MB/s eta 0:00:01\r\u001b[K     |██████████████████████████████▏ | 931kB 3.5MB/s eta 0:00:01\r\u001b[K     |██████████████████████████████▌ | 942kB 3.5MB/s eta 0:00:01\r\u001b[K     |██████████████████████████████▉ | 952kB 3.5MB/s eta 0:00:01\r\u001b[K     |███████████████████████████████▏| 962kB 3.5MB/s eta 0:00:01\r\u001b[K     |███████████████████████████████▌| 972kB 3.5MB/s eta 0:00:01\r\u001b[K     |███████████████████████████████▉| 983kB 3.5MB/s eta 0:00:01\r\u001b[K     |████████████████████████████████| 993kB 3.5MB/s \n",
            "\u001b[?25h  Building wheel for PyDrive (setup.py) ... \u001b[?25l\u001b[?25hdone\n"
          ],
          "name": "stdout"
        }
      ]
    },
    {
      "cell_type": "markdown",
      "metadata": {
        "id": "00hc_mkP-BIs",
        "colab_type": "text"
      },
      "source": [
        "## Authenticating User "
      ]
    },
    {
      "cell_type": "code",
      "metadata": {
        "id": "IRhNyfXQUIu2",
        "colab_type": "code",
        "colab": {
          "base_uri": "https://localhost:8080/",
          "height": 139
        },
        "outputId": "910b4c9a-54cc-4168-9465-2407e3006e0a"
      },
      "source": [
        "auth.authenticate_user()\n",
        "gauth = GoogleAuth()\n",
        "gauth.credentials = GoogleCredentials.get_application_default()\n",
        "drive = GoogleDrive(gauth)"
      ],
      "execution_count": 2,
      "outputs": [
        {
          "output_type": "stream",
          "text": [
            "\n",
            "WARNING: The TensorFlow contrib module will not be included in TensorFlow 2.0.\n",
            "For more information, please see:\n",
            "  * https://github.com/tensorflow/community/blob/master/rfcs/20180907-contrib-sunset.md\n",
            "  * https://github.com/tensorflow/addons\n",
            "If you depend on functionality not listed there, please file an issue.\n",
            "\n"
          ],
          "name": "stdout"
        }
      ]
    },
    {
      "cell_type": "markdown",
      "metadata": {
        "id": "loJFngeb-FaM",
        "colab_type": "text"
      },
      "source": [
        "## Downloading file from Google Drive"
      ]
    },
    {
      "cell_type": "code",
      "metadata": {
        "id": "yGrYlc8bUPd9",
        "colab_type": "code",
        "colab": {}
      },
      "source": [
        "fid = drive.ListFile({'q':\"title='Mobile_dataset.zip'\"}).GetList()[0]['id']\n",
        "f = drive.CreateFile({'id': fid})\n",
        "f.GetContentFile('Mobile_dataset.zip')"
      ],
      "execution_count": 0,
      "outputs": []
    },
    {
      "cell_type": "markdown",
      "metadata": {
        "id": "1tHOLwLY-O0v",
        "colab_type": "text"
      },
      "source": [
        "## Unzipping the downloaded file "
      ]
    },
    {
      "cell_type": "code",
      "metadata": {
        "id": "LtoBx9ujU9i7",
        "colab_type": "code",
        "colab": {}
      },
      "source": [
        "!unzip Mobile_dataset.zip"
      ],
      "execution_count": 0,
      "outputs": []
    },
    {
      "cell_type": "code",
      "metadata": {
        "id": "vPcS-fCht8dr",
        "colab_type": "code",
        "outputId": "d53ee426-ce5b-484f-a7b7-ab3410193c40",
        "colab": {
          "base_uri": "https://localhost:8080/",
          "height": 35
        }
      },
      "source": [
        "# deleting corrupt images which interuppted training of model\n",
        "import os,shutil\n",
        "\n",
        "os.remove('Mobile_dataset/dog/dog1218.jpg')\n",
        "shutil.copyfile('Mobile_dataset/dog/dog1217.jpg','Mobile_dataset/dog/dog1218.jpg')\n",
        "\n",
        "os.remove('Mobile_dataset/quote/quote1017.jpg')\n",
        "shutil.copyfile('Mobile_dataset/quote/quote1016.jpg','Mobile_dataset/quote/quote1017.jpg')\n",
        "\n",
        "os.remove('Mobile_dataset/spam/spam1035.jpg')\n",
        "shutil.copy('Mobile_dataset/spam/spam1034.jpg','Mobile_dataset/spam/spam1035.jpg')"
      ],
      "execution_count": 5,
      "outputs": [
        {
          "output_type": "execute_result",
          "data": {
            "text/plain": [
              "'Mobile_dataset/spam/spam1035.jpg'"
            ]
          },
          "metadata": {
            "tags": []
          },
          "execution_count": 5
        }
      ]
    },
    {
      "cell_type": "markdown",
      "metadata": {
        "id": "_gDf31rB-ZSN",
        "colab_type": "text"
      },
      "source": [
        "## Making Directories for Training, Validation and Testing the Model"
      ]
    },
    {
      "cell_type": "code",
      "metadata": {
        "id": "6Rz_dFOHX5_y",
        "colab_type": "code",
        "colab": {}
      },
      "source": [
        "import os,shutil \n",
        "\n",
        "original_dir='Mobile_dataset'         # original directory downloaded from google drive \n",
        "base_dir=\"data\"                       # base directory where we will separate training, validation and testing data \n",
        "\n",
        "os.mkdir(base_dir)                    # making the base directory "
      ],
      "execution_count": 0,
      "outputs": []
    },
    {
      "cell_type": "code",
      "metadata": {
        "id": "DnYhbm_4Yaah",
        "colab_type": "code",
        "colab": {}
      },
      "source": [
        "# Making the training directory \n",
        "train_dir=os.path.join(base_dir,\"train\")\n",
        "os.mkdir(train_dir)\n",
        "\n",
        "# Making the Validation directory \n",
        "validation_dir=os.path.join(base_dir,\"validation\")\n",
        "os.mkdir(validation_dir)\n",
        "\n",
        "# Making the test directory\n",
        "test_dir=os.path.join(base_dir,\"test\")\n",
        "os.mkdir(test_dir)\n"
      ],
      "execution_count": 0,
      "outputs": []
    },
    {
      "cell_type": "markdown",
      "metadata": {
        "id": "YfFFRdE8_pdx",
        "colab_type": "text"
      },
      "source": [
        "### Number of categories in the data "
      ]
    },
    {
      "cell_type": "code",
      "metadata": {
        "id": "KeeEEC0RahPI",
        "colab_type": "code",
        "outputId": "6a45d908-0d00-4301-8d76-7e8c627f0013",
        "colab": {
          "base_uri": "https://localhost:8080/",
          "height": 52
        }
      },
      "source": [
        "categories=[i for i in os.listdir(original_dir)]   # list of categories in the data \n",
        "\n",
        "num_classes=len(categories)                        # number of categories in the data\n",
        "\n",
        "print('Number of Classes : ',num_classes)\n",
        "print('Categories : ',categories)"
      ],
      "execution_count": 8,
      "outputs": [
        {
          "output_type": "stream",
          "text": [
            "Number of Classes :  6\n",
            "Categories :  ['screenshot', 'cat', 'george_bush', 'dog', 'quote', 'spam']\n"
          ],
          "name": "stdout"
        }
      ]
    },
    {
      "cell_type": "markdown",
      "metadata": {
        "id": "2HJXiYNhAK7T",
        "colab_type": "text"
      },
      "source": [
        "### Making Directories for each category in the training, validation and testing directory."
      ]
    },
    {
      "cell_type": "code",
      "metadata": {
        "id": "IJ75Myu3FhXp",
        "colab_type": "code",
        "outputId": "d9da09c9-96d0-40e3-ff7b-dce30d866382",
        "colab": {
          "base_uri": "https://localhost:8080/",
          "height": 55
        }
      },
      "source": [
        "c=[]\n",
        "\n",
        "# directories for training pictures \n",
        "for j in categories:\n",
        "  c.append(os.path.join(train_dir,j))\n",
        "  \n",
        "\n",
        "# directories for validation pictures\n",
        "for j in categories:\n",
        "  c.append(os.path.join(validation_dir,j))\n",
        "  \n",
        "\n",
        "#directories for test pictures \n",
        "for j in categories:\n",
        "  c.append(os.path.join(test_dir,j))\n",
        "  \n",
        "\n",
        "print(c)\n",
        "\n",
        "for i in c:\n",
        "  os.mkdir(i)   #making directories "
      ],
      "execution_count": 9,
      "outputs": [
        {
          "output_type": "stream",
          "text": [
            "['data/train/screenshot', 'data/train/cat', 'data/train/george_bush', 'data/train/dog', 'data/train/quote', 'data/train/spam', 'data/validation/screenshot', 'data/validation/cat', 'data/validation/george_bush', 'data/validation/dog', 'data/validation/quote', 'data/validation/spam', 'data/test/screenshot', 'data/test/cat', 'data/test/george_bush', 'data/test/dog', 'data/test/quote', 'data/test/spam']\n"
          ],
          "name": "stdout"
        }
      ]
    },
    {
      "cell_type": "markdown",
      "metadata": {
        "id": "0QGPTZ4SAv0I",
        "colab_type": "text"
      },
      "source": [
        "### Making list of training directories "
      ]
    },
    {
      "cell_type": "code",
      "metadata": {
        "id": "dwxCmYt5bKAx",
        "colab_type": "code",
        "outputId": "cfec62b8-f3fd-4ed6-bd34-e2eabc1ee0da",
        "colab": {
          "base_uri": "https://localhost:8080/",
          "height": 35
        }
      },
      "source": [
        "train_categories=[]\n",
        "for i in categories:\n",
        "  train_categories.append(base_dir+'/'+\"train\"+\"/\"+i)\n",
        "  \n",
        "print(train_categories)"
      ],
      "execution_count": 10,
      "outputs": [
        {
          "output_type": "stream",
          "text": [
            "['data/train/screenshot', 'data/train/cat', 'data/train/george_bush', 'data/train/dog', 'data/train/quote', 'data/train/spam']\n"
          ],
          "name": "stdout"
        }
      ]
    },
    {
      "cell_type": "markdown",
      "metadata": {
        "id": "B_hia2CsA7iY",
        "colab_type": "text"
      },
      "source": [
        "### Making list of validation directories"
      ]
    },
    {
      "cell_type": "code",
      "metadata": {
        "id": "EdFRLGtsgU7J",
        "colab_type": "code",
        "outputId": "39e4d4c8-0c23-4205-a4bc-4f82177ce4e2",
        "colab": {
          "base_uri": "https://localhost:8080/",
          "height": 55
        }
      },
      "source": [
        "validation_categories=[]\n",
        "for i in categories:\n",
        "  validation_categories.append(base_dir+'/'+\"validation\"+\"/\"+i)\n",
        "  \n",
        "print(validation_categories)"
      ],
      "execution_count": 11,
      "outputs": [
        {
          "output_type": "stream",
          "text": [
            "['data/validation/screenshot', 'data/validation/cat', 'data/validation/george_bush', 'data/validation/dog', 'data/validation/quote', 'data/validation/spam']\n"
          ],
          "name": "stdout"
        }
      ]
    },
    {
      "cell_type": "markdown",
      "metadata": {
        "id": "nMFF3apkBBjC",
        "colab_type": "text"
      },
      "source": [
        "### Making list of testing directories"
      ]
    },
    {
      "cell_type": "code",
      "metadata": {
        "id": "2OKAEwprgeDV",
        "colab_type": "code",
        "outputId": "a5f07177-5dd8-4664-91d1-584d15dd1143",
        "colab": {
          "base_uri": "https://localhost:8080/",
          "height": 35
        }
      },
      "source": [
        "test_categories=[]\n",
        "for i in categories:\n",
        "  test_categories.append(base_dir+'/'+\"test\"+\"/\"+i)\n",
        "  \n",
        "print(test_categories)"
      ],
      "execution_count": 12,
      "outputs": [
        {
          "output_type": "stream",
          "text": [
            "['data/test/screenshot', 'data/test/cat', 'data/test/george_bush', 'data/test/dog', 'data/test/quote', 'data/test/spam']\n"
          ],
          "name": "stdout"
        }
      ]
    },
    {
      "cell_type": "markdown",
      "metadata": {
        "id": "DrHPoKM4BGQu",
        "colab_type": "text"
      },
      "source": [
        "### Making list of original directories"
      ]
    },
    {
      "cell_type": "code",
      "metadata": {
        "id": "NB0xAs4PJSmp",
        "colab_type": "code",
        "outputId": "d02ba4bb-1694-4d89-c21f-9cdcbbe99213",
        "colab": {
          "base_uri": "https://localhost:8080/",
          "height": 55
        }
      },
      "source": [
        "original_dataset=[]\n",
        "for i in categories:\n",
        "  original_dataset.append(original_dir+\"/\"+i)\n",
        "  \n",
        "print(original_dataset)"
      ],
      "execution_count": 13,
      "outputs": [
        {
          "output_type": "stream",
          "text": [
            "['Mobile_dataset/screenshot', 'Mobile_dataset/cat', 'Mobile_dataset/george_bush', 'Mobile_dataset/dog', 'Mobile_dataset/quote', 'Mobile_dataset/spam']\n"
          ],
          "name": "stdout"
        }
      ]
    },
    {
      "cell_type": "markdown",
      "metadata": {
        "id": "xzNdtVB4BQPd",
        "colab_type": "text"
      },
      "source": [
        "### Copying the first 1000 images of each category in training directory of each category.\n",
        "### Copying the next 300 images of each category in validation directory of each category.\n",
        "### Copying the 200 images of each category in testing directory of each category."
      ]
    },
    {
      "cell_type": "code",
      "metadata": {
        "id": "6J_a4Fl_axld",
        "colab_type": "code",
        "colab": {}
      },
      "source": [
        "# Copy first 1000 images to train\n",
        "for i,j in enumerate(categories):\n",
        "  \n",
        "  fnames = [x for x in os.listdir(original_dir+'/'+j)[1:1000]]\n",
        "\n",
        "  for fname in fnames:\n",
        "      src = os.path.join(original_dataset[i], fname)\n",
        "      dst = os.path.join(train_categories[i], fname)\n",
        "      shutil.copyfile(src, dst)\n",
        "    "
      ],
      "execution_count": 0,
      "outputs": []
    },
    {
      "cell_type": "code",
      "metadata": {
        "id": "U2EgvpMHaxoZ",
        "colab_type": "code",
        "colab": {}
      },
      "source": [
        "#Copy next 300 images for validation\n",
        "\n",
        "for i,j in enumerate(categories):\n",
        "  \n",
        "  fnames = [x for x in os.listdir(original_dir+'/'+j)[1000:1300]]\n",
        "\n",
        "  for fname in fnames:\n",
        "      src = os.path.join(original_dataset[i], fname)\n",
        "      dst = os.path.join(validation_categories[i], fname)\n",
        "      shutil.copyfile(src, dst)\n",
        "    "
      ],
      "execution_count": 0,
      "outputs": []
    },
    {
      "cell_type": "code",
      "metadata": {
        "id": "qo76qpVUaxrU",
        "colab_type": "code",
        "colab": {}
      },
      "source": [
        "#Copy next 200 images for test\n",
        "\n",
        "for i,j in enumerate(categories):\n",
        "  \n",
        "  fnames = [x for x in os.listdir(original_dir+'/'+j)[1300:1500]]\n",
        "\n",
        "  for fname in fnames:\n",
        "      src = os.path.join(original_dataset[i], fname)\n",
        "      dst = os.path.join(test_categories[i], fname)\n",
        "      shutil.copyfile(src, dst)"
      ],
      "execution_count": 0,
      "outputs": []
    },
    {
      "cell_type": "markdown",
      "metadata": {
        "id": "SKzCIWefCTpb",
        "colab_type": "text"
      },
      "source": [
        "## Counting the total number of Training, Validation and Testing Images"
      ]
    },
    {
      "cell_type": "code",
      "metadata": {
        "id": "fxipQfPweOOz",
        "colab_type": "code",
        "outputId": "b739531d-8921-429d-f127-435646531848",
        "colab": {
          "base_uri": "https://localhost:8080/",
          "height": 69
        }
      },
      "source": [
        "# Total number of training images \n",
        "train_img_count=0\n",
        "for i in os.listdir(base_dir+'/'+\"train\"):\n",
        "  train_img_count+=len(os.listdir(base_dir+'/'+'train'+'/'+i))\n",
        "  \n",
        "# Total number of Validation Images \n",
        "validation_img_count=0\n",
        "for i in os.listdir(base_dir+'/'+'validation'):\n",
        "  validation_img_count+=len(os.listdir(base_dir+'/'+'validation'+'/'+i))\n",
        "  \n",
        "# Total number of Testing Images \n",
        "test_img_count=0\n",
        "for i in os.listdir(base_dir+'/'+'test'):\n",
        "  test_img_count+=len(os.listdir(base_dir+'/'+'test'+'/'+i))\n",
        "  \n",
        "print('Total Training Images :', train_img_count)\n",
        "print('Total validation Images:', validation_img_count)\n",
        "print('Total Test Images:', test_img_count)"
      ],
      "execution_count": 17,
      "outputs": [
        {
          "output_type": "stream",
          "text": [
            "Total Training Images : 5994\n",
            "Total validation Images: 1800\n",
            "Total Test Images: 1200\n"
          ],
          "name": "stdout"
        }
      ]
    },
    {
      "cell_type": "markdown",
      "metadata": {
        "id": "dK-c5uPECs-C",
        "colab_type": "text"
      },
      "source": [
        "# Creating Model\n",
        "\n",
        "### Importing required Modules "
      ]
    },
    {
      "cell_type": "code",
      "metadata": {
        "id": "zAfzbZdwVGsF",
        "colab_type": "code",
        "colab": {
          "base_uri": "https://localhost:8080/",
          "height": 35
        },
        "outputId": "18df5fde-d435-4d50-aad7-f31f23b0c274"
      },
      "source": [
        "import keras \n",
        "import numpy as np  "
      ],
      "execution_count": 18,
      "outputs": [
        {
          "output_type": "stream",
          "text": [
            "Using TensorFlow backend.\n"
          ],
          "name": "stderr"
        }
      ]
    },
    {
      "cell_type": "code",
      "metadata": {
        "id": "HphDYnVxsZHr",
        "colab_type": "code",
        "colab": {}
      },
      "source": [
        "img_height = 250    \n",
        "img_width = 250\n",
        "BATCH_SIZE = 128"
      ],
      "execution_count": 0,
      "outputs": []
    },
    {
      "cell_type": "code",
      "metadata": {
        "id": "qY41zj49Vazi",
        "colab_type": "code",
        "colab": {
          "base_uri": "https://localhost:8080/",
          "height": 141
        },
        "outputId": "d578eea1-3b5a-453a-dfb6-3974ed56df99"
      },
      "source": [
        "# Importing layers and models from keras\n",
        "from keras import layers\n",
        "from keras import models\n",
        "\n",
        "model = models.Sequential()                                                     # Creating Sequential Model\n",
        "\n",
        "model.add(layers.Conv2D(32, (3, 3), activation='relu',                          # Adding First Convolutional layer in the network\n",
        "                        input_shape=(img_height,img_width, 3)))\n",
        "\n",
        "model.add(layers.MaxPooling2D((2, 2)))                                          # adding First Pooling layer in the network\n",
        "\n",
        "model.add(layers.Conv2D(64, (3, 3),padding='same', activation='relu'))          # Adding Second Convolutional layer in the network\n",
        "\n",
        "model.add(layers.MaxPooling2D((2, 2)))                                          # Adding Second Pooling layer in the network\n",
        "\n",
        "model.add(layers.Conv2D(64, (3, 3),padding='same', activation='relu'))          # Adding Third Convolutional layer in the network\n",
        "\n",
        "model.add(layers.MaxPooling2D((2, 2)))                                          # Adding Third Pooling layer in the network\n",
        "\n",
        "model.add(layers.Dropout(0.25))                                                 # Adding a Dropout layer \n",
        "\n",
        "\n",
        "model.add(layers.Conv2D(128, (3, 3),padding='same', activation='relu'))         # Adding Fourth Convolutional layer in the network \n",
        "\n",
        "model.add(layers.MaxPooling2D((2, 2)))                                          # Adding Fourth Pooling layer in the network\n",
        "\n",
        "model.add(layers.Conv2D(128, (3, 3),padding='same', activation='relu'))         # Adding Fifth Convolutional Layer in the network\n",
        "\n",
        "model.add(layers.MaxPooling2D((2, 2)))                                          # Adding Fifth Pooling layer in the network\n",
        "\n",
        "model.add(layers.Dropout(0.25))                                                 # Adding a Dropout layer \n",
        "\n",
        "\n",
        "model.add(layers.Flatten())                                                     # Flattening the layers (Making it into one dimensional from 3 dimensional)\n",
        "                                                             \n",
        "model.add(layers.Dense(512, activation='relu'))                                 # Adding Dense Layer with 512 neurons\n",
        "\n",
        "model.add(layers.Dense(256, activation='relu'))                                 # Adding Dense Layer with 256 neurons \n",
        "\n",
        "model.add(layers.Dense(num_classes, activation='softmax'))                      # Adding Output Dense Layer with softmax(gives probability of each output class)\n",
        "                                                                                # activation function"
      ],
      "execution_count": 20,
      "outputs": [
        {
          "output_type": "stream",
          "text": [
            "WARNING:tensorflow:From /usr/local/lib/python3.6/dist-packages/tensorflow/python/framework/op_def_library.py:263: colocate_with (from tensorflow.python.framework.ops) is deprecated and will be removed in a future version.\n",
            "Instructions for updating:\n",
            "Colocations handled automatically by placer.\n",
            "WARNING:tensorflow:From /usr/local/lib/python3.6/dist-packages/keras/backend/tensorflow_backend.py:3445: calling dropout (from tensorflow.python.ops.nn_ops) with keep_prob is deprecated and will be removed in a future version.\n",
            "Instructions for updating:\n",
            "Please use `rate` instead of `keep_prob`. Rate should be set to `rate = 1 - keep_prob`.\n"
          ],
          "name": "stdout"
        }
      ]
    },
    {
      "cell_type": "code",
      "metadata": {
        "id": "0i5VnVlOVmd0",
        "colab_type": "code",
        "outputId": "0b7c47b5-757f-4c83-fe3d-72d4267d9306",
        "colab": {
          "base_uri": "https://localhost:8080/",
          "height": 693
        }
      },
      "source": [
        "# Summary of the Model \n",
        "\n",
        "model.summary()"
      ],
      "execution_count": 21,
      "outputs": [
        {
          "output_type": "stream",
          "text": [
            "_________________________________________________________________\n",
            "Layer (type)                 Output Shape              Param #   \n",
            "=================================================================\n",
            "conv2d_1 (Conv2D)            (None, 248, 248, 32)      896       \n",
            "_________________________________________________________________\n",
            "max_pooling2d_1 (MaxPooling2 (None, 124, 124, 32)      0         \n",
            "_________________________________________________________________\n",
            "conv2d_2 (Conv2D)            (None, 124, 124, 64)      18496     \n",
            "_________________________________________________________________\n",
            "max_pooling2d_2 (MaxPooling2 (None, 62, 62, 64)        0         \n",
            "_________________________________________________________________\n",
            "conv2d_3 (Conv2D)            (None, 62, 62, 64)        36928     \n",
            "_________________________________________________________________\n",
            "max_pooling2d_3 (MaxPooling2 (None, 31, 31, 64)        0         \n",
            "_________________________________________________________________\n",
            "dropout_1 (Dropout)          (None, 31, 31, 64)        0         \n",
            "_________________________________________________________________\n",
            "conv2d_4 (Conv2D)            (None, 31, 31, 128)       73856     \n",
            "_________________________________________________________________\n",
            "max_pooling2d_4 (MaxPooling2 (None, 15, 15, 128)       0         \n",
            "_________________________________________________________________\n",
            "conv2d_5 (Conv2D)            (None, 15, 15, 128)       147584    \n",
            "_________________________________________________________________\n",
            "max_pooling2d_5 (MaxPooling2 (None, 7, 7, 128)         0         \n",
            "_________________________________________________________________\n",
            "dropout_2 (Dropout)          (None, 7, 7, 128)         0         \n",
            "_________________________________________________________________\n",
            "flatten_1 (Flatten)          (None, 6272)              0         \n",
            "_________________________________________________________________\n",
            "dense_1 (Dense)              (None, 512)               3211776   \n",
            "_________________________________________________________________\n",
            "dense_2 (Dense)              (None, 256)               131328    \n",
            "_________________________________________________________________\n",
            "dense_3 (Dense)              (None, 6)                 1542      \n",
            "=================================================================\n",
            "Total params: 3,622,406\n",
            "Trainable params: 3,622,406\n",
            "Non-trainable params: 0\n",
            "_________________________________________________________________\n"
          ],
          "name": "stdout"
        }
      ]
    },
    {
      "cell_type": "markdown",
      "metadata": {
        "id": "eJ6-tJpRE7w9",
        "colab_type": "text"
      },
      "source": [
        "### Compiling Model "
      ]
    },
    {
      "cell_type": "code",
      "metadata": {
        "id": "6XWsuQM0hjjJ",
        "colab_type": "code",
        "colab": {}
      },
      "source": [
        "model.compile(loss='categorical_crossentropy',                 \n",
        "              optimizer='adam',\n",
        "              metrics=['accuracy'])"
      ],
      "execution_count": 0,
      "outputs": []
    },
    {
      "cell_type": "markdown",
      "metadata": {
        "id": "-HBoxyaDFQhp",
        "colab_type": "text"
      },
      "source": [
        "### Processing Images before feeding into the Neural Network "
      ]
    },
    {
      "cell_type": "code",
      "metadata": {
        "id": "YsYs3xCyVp75",
        "colab_type": "code",
        "colab": {
          "base_uri": "https://localhost:8080/",
          "height": 52
        },
        "outputId": "fc151510-b9a6-44d4-99bd-9263eaebf655"
      },
      "source": [
        "from keras.preprocessing.image import ImageDataGenerator\n",
        "\n",
        "\n",
        "# Data Augumentation with training data \n",
        "train_datagen = ImageDataGenerator( rescale=1./255,                        # Normalizing Images, means all pixel values will be in the range (0,1) \n",
        "                                    rotation_range=40,\n",
        "                                    width_shift_range=0.2,\n",
        "                                    height_shift_range=0.2,\n",
        "                                    shear_range=0.2,\n",
        "                                    zoom_range=0.2,\n",
        "                                    horizontal_flip=True,)\n",
        "\n",
        "test_datagen = ImageDataGenerator(rescale=1./255)\n",
        "\n",
        "# Converting the data into Batches for easier processing \n",
        "train_generator = train_datagen.flow_from_directory(\n",
        "                                train_dir,                                  # This is the target directory\n",
        "                                target_size=(img_height, img_width),        # All images will be resized to (img_height x img_width) \n",
        "                                batch_size=BATCH_SIZE,\n",
        "                                class_mode='categorical'                    # Since we use categorical_crossentropy loss, we need categorical labels\n",
        "                                )\n",
        "\n",
        "\n",
        "validation_generator = test_datagen.flow_from_directory(\n",
        "                                validation_dir,\n",
        "                                target_size=(img_height, img_width),\n",
        "                                batch_size=BATCH_SIZE,\n",
        "                                class_mode='categorical')"
      ],
      "execution_count": 23,
      "outputs": [
        {
          "output_type": "stream",
          "text": [
            "Found 5994 images belonging to 6 classes.\n",
            "Found 1800 images belonging to 6 classes.\n"
          ],
          "name": "stdout"
        }
      ]
    },
    {
      "cell_type": "code",
      "metadata": {
        "id": "j6MpzD6xmDLD",
        "colab_type": "code",
        "outputId": "e70a27e7-62a5-43e9-a451-9cc581867141",
        "colab": {
          "base_uri": "https://localhost:8080/",
          "height": 52
        }
      },
      "source": [
        "# Shape of the Batches formed \n",
        "\n",
        "for data_batch, labels_batch in train_generator:\n",
        "    print('data batch shape:', data_batch.shape)\n",
        "    print('labels batch shape:', labels_batch.shape)\n",
        "    break"
      ],
      "execution_count": 24,
      "outputs": [
        {
          "output_type": "stream",
          "text": [
            "data batch shape: (128, 250, 250, 3)\n",
            "labels batch shape: (128, 6)\n"
          ],
          "name": "stdout"
        }
      ]
    },
    {
      "cell_type": "markdown",
      "metadata": {
        "id": "KS0Ssdu2GI27",
        "colab_type": "text"
      },
      "source": [
        "## Training Model "
      ]
    },
    {
      "cell_type": "code",
      "metadata": {
        "id": "AdicdwqHmGZV",
        "colab_type": "code",
        "outputId": "d5ea1e76-843b-4cee-bedb-9d297bc2972e",
        "colab": {
          "base_uri": "https://localhost:8080/",
          "height": 471
        }
      },
      "source": [
        "# Train the model\n",
        "batch_size = BATCH_SIZE\n",
        "train_steps_per_epoch = train_img_count // batch_size\n",
        "val_steps_per_epoch = validation_img_count // batch_size\n",
        "\n",
        "history = model.fit_generator(train_generator,\n",
        "                              steps_per_epoch=train_steps_per_epoch,\n",
        "                              validation_data=validation_generator,\n",
        "                              validation_steps=val_steps_per_epoch,\n",
        "                              epochs=10, \n",
        "                              shuffle=True,\n",
        "                              verbose=1)   "
      ],
      "execution_count": 25,
      "outputs": [
        {
          "output_type": "stream",
          "text": [
            "WARNING:tensorflow:From /usr/local/lib/python3.6/dist-packages/tensorflow/python/ops/math_ops.py:3066: to_int32 (from tensorflow.python.ops.math_ops) is deprecated and will be removed in a future version.\n",
            "Instructions for updating:\n",
            "Use tf.cast instead.\n",
            "Epoch 1/10\n"
          ],
          "name": "stdout"
        },
        {
          "output_type": "stream",
          "text": [
            "/usr/local/lib/python3.6/dist-packages/PIL/Image.py:914: UserWarning: Palette images with Transparency   expressed in bytes should be converted to RGBA images\n",
            "  'to RGBA images')\n"
          ],
          "name": "stderr"
        },
        {
          "output_type": "stream",
          "text": [
            "46/46 [==============================] - 1133s 25s/step - loss: 1.5334 - acc: 0.3420 - val_loss: 1.3258 - val_acc: 0.4715\n",
            "Epoch 2/10\n",
            "46/46 [==============================] - 1102s 24s/step - loss: 1.0413 - acc: 0.5418 - val_loss: 1.1112 - val_acc: 0.5526\n",
            "Epoch 3/10\n",
            "46/46 [==============================] - 1088s 24s/step - loss: 0.8937 - acc: 0.6171 - val_loss: 0.8935 - val_acc: 0.6053\n",
            "Epoch 4/10\n",
            "46/46 [==============================] - 1087s 24s/step - loss: 0.8481 - acc: 0.6376 - val_loss: 0.8460 - val_acc: 0.6184\n",
            "Epoch 5/10\n",
            "46/46 [==============================] - 1084s 24s/step - loss: 0.7922 - acc: 0.6594 - val_loss: 0.6888 - val_acc: 0.7267\n",
            "Epoch 6/10\n",
            "46/46 [==============================] - 1090s 24s/step - loss: 0.7780 - acc: 0.6848 - val_loss: 0.7912 - val_acc: 0.6896\n",
            "Epoch 7/10\n",
            "46/46 [==============================] - 1087s 24s/step - loss: 0.7154 - acc: 0.7088 - val_loss: 0.7054 - val_acc: 0.7159\n",
            "Epoch 8/10\n",
            "46/46 [==============================] - 1093s 24s/step - loss: 0.6676 - acc: 0.7292 - val_loss: 0.6387 - val_acc: 0.7488\n",
            "Epoch 9/10\n",
            "46/46 [==============================] - 1089s 24s/step - loss: 0.6615 - acc: 0.7316 - val_loss: 0.7092 - val_acc: 0.7207\n",
            "Epoch 10/10\n",
            "46/46 [==============================] - 1088s 24s/step - loss: 0.6101 - acc: 0.7540 - val_loss: 0.7107 - val_acc: 0.7123\n"
          ],
          "name": "stdout"
        }
      ]
    },
    {
      "cell_type": "code",
      "metadata": {
        "id": "7meRMMmcfcXN",
        "colab_type": "code",
        "colab": {}
      },
      "source": [
        "model.save('mobile_dataset_project.h5')"
      ],
      "execution_count": 0,
      "outputs": []
    },
    {
      "cell_type": "markdown",
      "metadata": {
        "id": "ofTv86u4I15U",
        "colab_type": "text"
      },
      "source": [
        "### Plotting the training and validation loss, accuracy "
      ]
    },
    {
      "cell_type": "code",
      "metadata": {
        "id": "DKCwE1fkMLqi",
        "colab_type": "code",
        "outputId": "48b87960-73eb-46e1-9301-b9cd2b7a2eae",
        "colab": {
          "base_uri": "https://localhost:8080/",
          "height": 545
        }
      },
      "source": [
        "import matplotlib.pyplot as plt\n",
        "\n",
        "acc = history.history['acc']\n",
        "val_acc = history.history['val_acc']\n",
        "loss = history.history['loss']\n",
        "val_loss = history.history['val_loss']\n",
        "\n",
        "epochs = range(len(acc))\n",
        "\n",
        "plt.plot(epochs, acc, 'bo', label='Training acc')\n",
        "plt.plot(epochs, val_acc, 'b', label='Validation acc')\n",
        "plt.title('Training and validation accuracy')\n",
        "plt.legend()\n",
        "\n",
        "plt.figure()\n",
        "\n",
        "plt.plot(epochs, loss, 'bo', label='Training loss')\n",
        "plt.plot(epochs, val_loss, 'b', label='Validation loss')\n",
        "plt.title('Training and validation loss')\n",
        "plt.legend()\n",
        "\n",
        "plt.show()"
      ],
      "execution_count": 27,
      "outputs": [
        {
          "output_type": "display_data",
          "data": {
            "image/png": "[encoded data removed]",
            "text/plain": [
              "<Figure size 432x288 with 1 Axes>"
            ]
          },
          "metadata": {
            "tags": []
          }
        },
        {
          "output_type": "display_data",
          "data": {
            "image/png": "[encoded data removed]",
            "text/plain": [
              "<Figure size 432x288 with 1 Axes>"
            ]
          },
          "metadata": {
            "tags": []
          }
        }
      ]
    },
    {
      "cell_type": "markdown",
      "metadata": {
        "id": "ZrzyuQlvsaWB",
        "colab_type": "text"
      },
      "source": [
        "## Testing the Model "
      ]
    },
    {
      "cell_type": "code",
      "metadata": {
        "id": "rIh-gxyaTmlO",
        "colab_type": "code",
        "outputId": "dc279897-0158-45b2-f71d-b159c9d4487e",
        "colab": {
          "base_uri": "https://localhost:8080/",
          "height": 124
        }
      },
      "source": [
        "test_generator = test_datagen.flow_from_directory(\n",
        "        test_dir,\n",
        "        target_size=(img_height,img_width),\n",
        "        batch_size=BATCH_SIZE,\n",
        "        class_mode='categorical')\n",
        "\n",
        "test_loss, test_acc = model.evaluate_generator(test_generator, steps=50)\n",
        "print('test accuracy :', test_acc)\n",
        "print('test loss :', test_loss)"
      ],
      "execution_count": 28,
      "outputs": [
        {
          "output_type": "stream",
          "text": [
            "Found 1200 images belonging to 6 classes.\n"
          ],
          "name": "stdout"
        },
        {
          "output_type": "stream",
          "text": [
            "/usr/local/lib/python3.6/dist-packages/PIL/Image.py:914: UserWarning: Palette images with Transparency   expressed in bytes should be converted to RGBA images\n",
            "  'to RGBA images')\n"
          ],
          "name": "stderr"
        },
        {
          "output_type": "stream",
          "text": [
            "test accuracy : 0.7125000003178914\n",
            "test loss : 0.7208678099314372\n"
          ],
          "name": "stdout"
        }
      ]
    },
    {
      "cell_type": "markdown",
      "metadata": {
        "id": "h6V88scLRV40",
        "colab_type": "text"
      },
      "source": [
        "##Confusion Matrix "
      ]
    },
    {
      "cell_type": "code",
      "metadata": {
        "id": "yNbf48OEGouS",
        "colab_type": "code",
        "colab": {
          "base_uri": "https://localhost:8080/",
          "height": 89
        },
        "outputId": "7aff3b9c-5999-48db-d765-bdce8bab2c4b"
      },
      "source": [
        "test_generator = test_datagen.flow_from_directory(\n",
        "        test_dir,\n",
        "        target_size=(img_height,img_width),\n",
        "        batch_size=test_img_count,\n",
        "        class_mode='categorical')\n",
        "\n",
        "imgs,labels=next(test_generator)\n",
        "\n",
        "y_true=[labels[i].argmax(axis=-1) for i in range(len(labels))]\n",
        "\n",
        "predictions=model.predict(imgs)\n",
        "\n",
        "y_pred =[ predictions[i].argmax(axis=-1) for i in range(len(predictions))]\n",
        "\n",
        "class_names = np.asarray(categories)\n"
      ],
      "execution_count": 29,
      "outputs": [
        {
          "output_type": "stream",
          "text": [
            "Found 1200 images belonging to 6 classes.\n"
          ],
          "name": "stdout"
        },
        {
          "output_type": "stream",
          "text": [
            "/usr/local/lib/python3.6/dist-packages/PIL/Image.py:914: UserWarning: Palette images with Transparency   expressed in bytes should be converted to RGBA images\n",
            "  'to RGBA images')\n"
          ],
          "name": "stderr"
        }
      ]
    },
    {
      "cell_type": "code",
      "metadata": {
        "id": "GCsG-waWRZht",
        "colab_type": "code",
        "outputId": "668ed4e7-964c-4136-818d-e233add54fd7",
        "colab": {
          "base_uri": "https://localhost:8080/",
          "height": 121
        }
      },
      "source": [
        "from sklearn.metrics import confusion_matrix\n",
        "import matplotlib.pyplot as plt\n",
        "from sklearn.utils.multiclass import unique_labels\n",
        "\n",
        "cm = confusion_matrix(y_true,y_pred)\n",
        "cm"
      ],
      "execution_count": 30,
      "outputs": [
        {
          "output_type": "execute_result",
          "data": {
            "text/plain": [
              "array([[ 96,  76,   2,  17,   8,   1],\n",
              "       [ 34, 128,   0,  24,  14,   0],\n",
              "       [  0,   0, 200,   0,   0,   0],\n",
              "       [  1,   3,   1, 168,  23,   4],\n",
              "       [  0,   2,   0,  26, 171,   1],\n",
              "       [  9,   7,   1,  87,   4,  92]])"
            ]
          },
          "metadata": {
            "tags": []
          },
          "execution_count": 30
        }
      ]
    },
    {
      "cell_type": "code",
      "metadata": {
        "id": "LuO6e17LembR",
        "colab_type": "code",
        "colab": {}
      },
      "source": [
        "def plot_confusion_matrix(y_true, y_pred, classes,\n",
        "                          normalize=False,\n",
        "                          title=None,\n",
        "                          cmap=plt.cm.Blues):\n",
        "    \"\"\"\n",
        "    This function prints and plots the confusion matrix.\n",
        "    Normalization can be applied by setting `normalize=True`.\n",
        "    \"\"\"\n",
        "    if not title:\n",
        "        if normalize:\n",
        "            title = 'Normalized confusion matrix'\n",
        "        else:\n",
        "            title = 'Confusion matrix, without normalization'\n",
        "\n",
        "    # Compute confusion matrix\n",
        "    cm = confusion_matrix(y_true, y_pred)\n",
        "    \n",
        "    # Only use the labels that appear in the data\n",
        "    classes = classes[unique_labels(y_true, y_pred)]\n",
        "    if normalize:\n",
        "        cm = cm.astype('float') / cm.sum(axis=1)[:, np.newaxis]\n",
        "        print(\"Normalized confusion matrix\")\n",
        "    else:\n",
        "        print('Confusion matrix, without normalization')\n",
        "\n",
        "    #print(cm)\n",
        "\n",
        "    fig, ax = plt.subplots(figsize=(8, 8))\n",
        "    im = ax.imshow(cm, interpolation='nearest', cmap=cmap)\n",
        "    ax.figure.colorbar(im, ax=ax)\n",
        "    # We want to show all ticks...\n",
        "    ax.set(xticks=np.arange(cm.shape[1]),\n",
        "           yticks=np.arange(cm.shape[0]),\n",
        "           # ... and label them with the respective list entries\n",
        "           xticklabels=classes, yticklabels=classes,\n",
        "           title=title,\n",
        "           ylabel='True label',\n",
        "           xlabel='Predicted label')\n",
        "\n",
        "    # Rotate the tick labels and set their alignment.\n",
        "    plt.setp(ax.get_xticklabels(), rotation=45, ha=\"right\",\n",
        "             rotation_mode=\"anchor\")\n",
        "\n",
        "    # Loop over data dimensions and create text annotations.\n",
        "    fmt = '.2f' if normalize else 'd'\n",
        "    thresh = cm.max() / 2.\n",
        "    for i in range(cm.shape[0]):\n",
        "        for j in range(cm.shape[1]):\n",
        "            ax.text(j, i, format(cm[i, j], fmt),\n",
        "                    ha=\"center\", va=\"center\",\n",
        "                    color=\"white\" if cm[i, j] > thresh else \"black\")\n",
        "    fig.tight_layout()\n",
        "    return ax\n",
        "\n",
        "   "
      ],
      "execution_count": 0,
      "outputs": []
    },
    {
      "cell_type": "code",
      "metadata": {
        "id": "oAhInIZxRZfh",
        "colab_type": "code",
        "outputId": "b27d50b3-b4ff-4c63-db68-7f1617849f69",
        "colab": {
          "base_uri": "https://localhost:8080/",
          "height": 591
        }
      },
      "source": [
        "plot_confusion_matrix(y_true, y_pred, classes=class_names,\n",
        "                      title='Confusion matrix, without normalization')\n"
      ],
      "execution_count": 32,
      "outputs": [
        {
          "output_type": "stream",
          "text": [
            "Confusion matrix, without normalization\n"
          ],
          "name": "stdout"
        },
        {
          "output_type": "execute_result",
          "data": {
            "text/plain": [
              "<matplotlib.axes._subplots.AxesSubplot at 0x7f56749e2c50>"
            ]
          },
          "metadata": {
            "tags": []
          },
          "execution_count": 32
        },
        {
          "output_type": "display_data",
          "data": {
            "image/png": "[encoded data removed]",
            "text/plain": [
              "<Figure size 576x576 with 2 Axes>"
            ]
          },
          "metadata": {
            "tags": []
          }
        }
      ]
    },
    {
      "cell_type": "code",
      "metadata": {
        "id": "sG-HfCzsRZca",
        "colab_type": "code",
        "outputId": "0d8c8f7d-1668-4556-9476-3af0132840ed",
        "colab": {
          "base_uri": "https://localhost:8080/",
          "height": 591
        }
      },
      "source": [
        "# Plot normalized confusion matrix\n",
        "plot_confusion_matrix(y_true, y_pred, classes=class_names, normalize=True,\n",
        "                      title='Normalized confusion matrix')"
      ],
      "execution_count": 33,
      "outputs": [
        {
          "output_type": "stream",
          "text": [
            "Normalized confusion matrix\n"
          ],
          "name": "stdout"
        },
        {
          "output_type": "execute_result",
          "data": {
            "text/plain": [
              "<matplotlib.axes._subplots.AxesSubplot at 0x7f568474a1d0>"
            ]
          },
          "metadata": {
            "tags": []
          },
          "execution_count": 33
        },
        {
          "output_type": "display_data",
          "data": {
            "image/png": "[encoded data removed]",
            "text/plain": [
              "<Figure size 576x576 with 2 Axes>"
            ]
          },
          "metadata": {
            "tags": []
          }
        }
      ]
    },
    {
      "cell_type": "markdown",
      "metadata": {
        "id": "CpYJX0c7jKs0",
        "colab_type": "text"
      },
      "source": [
        "##Classification Report "
      ]
    },
    {
      "cell_type": "code",
      "metadata": {
        "id": "e9gRxMHkjNT8",
        "colab_type": "code",
        "outputId": "599f4731-ad3b-4f20-e749-8632f3c13f44",
        "colab": {
          "base_uri": "https://localhost:8080/",
          "height": 243
        }
      },
      "source": [
        "from sklearn.metrics import classification_report\n",
        "\n",
        "print(classification_report(y_true,y_pred,target_names=class_names))"
      ],
      "execution_count": 34,
      "outputs": [
        {
          "output_type": "stream",
          "text": [
            "              precision    recall  f1-score   support\n",
            "\n",
            "  screenshot       0.69      0.48      0.56       200\n",
            "         cat       0.59      0.64      0.62       200\n",
            " george_bush       0.98      1.00      0.99       200\n",
            "         dog       0.52      0.84      0.64       200\n",
            "       quote       0.78      0.85      0.81       200\n",
            "        spam       0.94      0.46      0.62       200\n",
            "\n",
            "    accuracy                           0.71      1200\n",
            "   macro avg       0.75      0.71      0.71      1200\n",
            "weighted avg       0.75      0.71      0.71      1200\n",
            "\n"
          ],
          "name": "stdout"
        }
      ]
    },
    {
      "cell_type": "code",
      "metadata": {
        "id": "7EF7numojNQo",
        "colab_type": "code",
        "colab": {}
      },
      "source": [
        ""
      ],
      "execution_count": 0,
      "outputs": []
    }
  ]
}